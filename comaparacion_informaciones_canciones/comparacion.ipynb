{
 "cells": [
  {
   "cell_type": "code",
   "execution_count": 3,
   "id": "5e030bac",
   "metadata": {},
   "outputs": [],
   "source": [
    "import re\n",
    "import math"
   ]
  },
  {
   "cell_type": "code",
   "execution_count": 4,
   "id": "c6da6252",
   "metadata": {},
   "outputs": [],
   "source": [
    "residente = list(open(\"residente.txt\",encoding=\"utf8\"))\n",
    "balvin = list(open(\"morado.txt\",encoding=\"utf8\"))\n",
    "        \n",
    "type(residente)\n",
    "#print(residente)\n",
    "str_residente = \"\".join(residente)\n",
    "str_balvin = \"\".join(balvin)"
   ]
  },
  {
   "cell_type": "code",
   "execution_count": 5,
   "id": "dbb91c6f",
   "metadata": {},
   "outputs": [
    {
     "data": {
      "text/plain": [
       "['h']"
      ]
     },
     "execution_count": 5,
     "metadata": {},
     "output_type": "execute_result"
    }
   ],
   "source": [
    "re.findall(\"h\",\"juan hola\")"
   ]
  },
  {
   "cell_type": "code",
   "execution_count": 6,
   "id": "1ed5a73c",
   "metadata": {},
   "outputs": [
    {
     "data": {
      "text/plain": [
       "str"
      ]
     },
     "execution_count": 6,
     "metadata": {},
     "output_type": "execute_result"
    }
   ],
   "source": [
    "texto = \"mi nombre es juan juan es\"\n",
    "type(texto)"
   ]
  },
  {
   "cell_type": "code",
   "execution_count": 7,
   "id": "91e90301",
   "metadata": {},
   "outputs": [],
   "source": [
    "palabras = list(set(texto.split()))\n",
    "palabras_r = list(set(str_residente.split()))\n",
    "palabras_b = list(set(str_balvin.split()))"
   ]
  },
  {
   "cell_type": "code",
   "execution_count": 8,
   "id": "0985a8c5",
   "metadata": {},
   "outputs": [],
   "source": [
    "d_r = {}\n",
    "h_r = []\n",
    "for i in palabras_r:\n",
    "    veces = 0\n",
    "    for j in range(len(str_residente.split() )):\n",
    "        if i == str_residente.split()[j]:\n",
    "            veces += 1\n",
    "    d_r[i] = veces/len(str_residente.split())\n",
    "    h_r.append(veces/len(str_residente.split()))\n",
    "d_b = {}\n",
    "h_b = []\n",
    "for i in palabras_b:\n",
    "    veces = 0\n",
    "    for j in range(len(str_balvin.split() )):\n",
    "        if i == str_balvin.split()[j]:\n",
    "            veces += 1\n",
    "    d_b[i] = veces/len(str_balvin.split())\n",
    "    h_b.append(veces/len(str_balvin.split()))"
   ]
  },
  {
   "cell_type": "code",
   "execution_count": 9,
   "id": "de29b137",
   "metadata": {},
   "outputs": [],
   "source": [
    "d = {}\n",
    "h = []\n",
    "for i in palabras:\n",
    "    veces = 0\n",
    "    for j in range(len(texto.split())):\n",
    "        if i == texto.split()[j]:\n",
    "            veces += 1\n",
    "    d[i] = veces/len(texto.split())\n",
    "    h.append(veces/len(texto.split()))"
   ]
  },
  {
   "cell_type": "code",
   "execution_count": null,
   "id": "b26988ac",
   "metadata": {},
   "outputs": [],
   "source": []
  },
  {
   "cell_type": "code",
   "execution_count": 10,
   "id": "0dee8eba",
   "metadata": {},
   "outputs": [],
   "source": [
    "H_r=-sum(list(map(lambda x: x*math.log2(x),h_r)))\n",
    "H_b=-sum(list(map(lambda x: x*math.log2(x),h_b)))"
   ]
  },
  {
   "cell_type": "code",
   "execution_count": 11,
   "id": "7b1fcfa1",
   "metadata": {},
   "outputs": [
    {
     "data": {
      "text/plain": [
       "7.154601405720153"
      ]
     },
     "execution_count": 11,
     "metadata": {},
     "output_type": "execute_result"
    }
   ],
   "source": [
    "H_r"
   ]
  },
  {
   "cell_type": "code",
   "execution_count": 12,
   "id": "eee1b14a",
   "metadata": {},
   "outputs": [
    {
     "data": {
      "text/plain": [
       "6.738905763328708"
      ]
     },
     "execution_count": 12,
     "metadata": {},
     "output_type": "execute_result"
    }
   ],
   "source": [
    "H_b"
   ]
  },
  {
   "cell_type": "code",
   "execution_count": 13,
   "id": "65751c90",
   "metadata": {},
   "outputs": [
    {
     "data": {
      "text/plain": [
       "0.4156956423914453"
      ]
     },
     "execution_count": 13,
     "metadata": {},
     "output_type": "execute_result"
    }
   ],
   "source": [
    "delta_H = H_r - H_b\n",
    "delta_H"
   ]
  },
  {
   "cell_type": "code",
   "execution_count": 15,
   "id": "acda7ee7",
   "metadata": {},
   "outputs": [
    {
     "name": "stdout",
     "output_type": "stream",
     "text": [
      "El contenido de información de Shannon (ci) en la cancion en bits de This is Not America de recidente es de  7.154601405720153  mientras que el ci de morado de J Balbin es  6.738905763328708\n",
      "Por cual se puede afrimar que This is Not America tiene  0.4156956423914453 mas bits de información que morado\n"
     ]
    }
   ],
   "source": [
    "print(\"El contenido de información de Shannon (ci) en la cancion en bits de This is Not America de recidente es de \",H_r,\" mientras que el ci de morado de J Balbin es \",H_b)\n",
    "print(\"Por cual se puede afrimar que This is Not America tiene \",delta_H, \"mas bits de información que morado\")"
   ]
  },
  {
   "cell_type": "code",
   "execution_count": null,
   "id": "2ed45911",
   "metadata": {},
   "outputs": [],
   "source": []
  }
 ],
 "metadata": {
  "kernelspec": {
   "display_name": "Python 3 (ipykernel)",
   "language": "python",
   "name": "python3"
  },
  "language_info": {
   "codemirror_mode": {
    "name": "ipython",
    "version": 3
   },
   "file_extension": ".py",
   "mimetype": "text/x-python",
   "name": "python",
   "nbconvert_exporter": "python",
   "pygments_lexer": "ipython3",
   "version": "3.9.7"
  }
 },
 "nbformat": 4,
 "nbformat_minor": 5
}
