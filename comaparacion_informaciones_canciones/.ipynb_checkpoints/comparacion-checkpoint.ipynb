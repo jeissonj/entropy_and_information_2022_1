{
 "cells": [
  {
   "cell_type": "code",
   "execution_count": 1,
   "id": "5e030bac",
   "metadata": {},
   "outputs": [],
   "source": [
    "import re\n",
    "import math"
   ]
  },
  {
   "cell_type": "code",
   "execution_count": 2,
   "id": "c6da6252",
   "metadata": {},
   "outputs": [],
   "source": [
    "residente = list(open(\"residente.txt\",encoding=\"utf8\"))\n",
    "balvin = list(open(\"morado.txt\",encoding=\"utf8\"))\n",
    "        \n",
    "type(residente)\n",
    "#print(residente)\n",
    "str_residente = \"\".join(residente)\n",
    "str_balvin = \"\".join(balvin)"
   ]
  },
  {
   "cell_type": "code",
   "execution_count": 3,
   "id": "dbb91c6f",
   "metadata": {},
   "outputs": [
    {
     "data": {
      "text/plain": [
       "['h']"
      ]
     },
     "execution_count": 3,
     "metadata": {},
     "output_type": "execute_result"
    }
   ],
   "source": [
    "re.findall(\"h\",\"juan hola\")"
   ]
  },
  {
   "cell_type": "code",
   "execution_count": 4,
   "id": "1ed5a73c",
   "metadata": {},
   "outputs": [
    {
     "data": {
      "text/plain": [
       "str"
      ]
     },
     "execution_count": 4,
     "metadata": {},
     "output_type": "execute_result"
    }
   ],
   "source": [
    "texto = \"mi nombre es juan juan es\"\n",
    "type(texto)"
   ]
  },
  {
   "cell_type": "code",
   "execution_count": 5,
   "id": "91e90301",
   "metadata": {},
   "outputs": [],
   "source": [
    "palabras = list(set(texto.split()))\n",
    "palabras_r = list(set(str_residente.split()))\n",
    "palabras_b = list(set(str_balvin.split()))"
   ]
  },
  {
   "cell_type": "code",
   "execution_count": 6,
   "id": "0985a8c5",
   "metadata": {},
   "outputs": [],
   "source": [
    "d_r = {}\n",
    "h_r = []\n",
    "for i in palabras_r:\n",
    "    veces = 0\n",
    "    for j in range(len(str_residente.split() )):\n",
    "        if i == str_residente.split()[j]:\n",
    "            veces += 1\n",
    "    d_r[i] = veces/len(str_residente.split())\n",
    "    h_r.append(veces/len(str_residente.split()))\n",
    "d_b = {}\n",
    "h_b = []\n",
    "for i in palabras_b:\n",
    "    veces = 0\n",
    "    for j in range(len(str_balvin.split() )):\n",
    "        if i == str_balvin.split()[j]:\n",
    "            veces += 1\n",
    "    d_b[i] = veces/len(str_balvin.split())\n",
    "    h_b.append(veces/len(str_balvin.split()))"
   ]
  },
  {
   "cell_type": "code",
   "execution_count": 7,
   "id": "de29b137",
   "metadata": {},
   "outputs": [],
   "source": [
    "d = {}\n",
    "h = []\n",
    "for i in palabras:\n",
    "    veces = 0\n",
    "    for j in range(len(texto.split())):\n",
    "        if i == texto.split()[j]:\n",
    "            veces += 1\n",
    "    d[i] = veces/len(texto.split())\n",
    "    h.append(veces/len(texto.split()))"
   ]
  },
  {
   "cell_type": "code",
   "execution_count": null,
   "id": "b26988ac",
   "metadata": {},
   "outputs": [],
   "source": []
  },
  {
   "cell_type": "code",
   "execution_count": 12,
   "id": "0dee8eba",
   "metadata": {},
   "outputs": [],
   "source": [
    "H_r=-sum(list(map(lambda x: x*math.log2(x),h_r)))\n",
    "H_b=-sum(list(map(lambda x: x*math.log2(x),h_b)))"
   ]
  },
  {
   "cell_type": "code",
   "execution_count": 14,
   "id": "7b1fcfa1",
   "metadata": {},
   "outputs": [
    {
     "data": {
      "text/plain": [
       "7.154601405720148"
      ]
     },
     "execution_count": 14,
     "metadata": {},
     "output_type": "execute_result"
    }
   ],
   "source": [
    "H_r"
   ]
  },
  {
   "cell_type": "code",
   "execution_count": 15,
   "id": "eee1b14a",
   "metadata": {},
   "outputs": [
    {
     "data": {
      "text/plain": [
       "6.73890576332871"
      ]
     },
     "execution_count": 15,
     "metadata": {},
     "output_type": "execute_result"
    }
   ],
   "source": [
    "H_b"
   ]
  },
  {
   "cell_type": "code",
   "execution_count": 18,
   "id": "65751c90",
   "metadata": {},
   "outputs": [
    {
     "data": {
      "text/plain": [
       "0.4156956423914373"
      ]
     },
     "execution_count": 18,
     "metadata": {},
     "output_type": "execute_result"
    }
   ],
   "source": [
    "delta_H = H_r - H_b\n",
    "delta_H"
   ]
  },
  {
   "cell_type": "code",
   "execution_count": null,
   "id": "acda7ee7",
   "metadata": {},
   "outputs": [],
   "source": [
    "print(\"El contenido de información en la cancion de recidente es de \",H)"
   ]
  }
 ],
 "metadata": {
  "kernelspec": {
   "display_name": "Python 3 (ipykernel)",
   "language": "python",
   "name": "python3"
  },
  "language_info": {
   "codemirror_mode": {
    "name": "ipython",
    "version": 3
   },
   "file_extension": ".py",
   "mimetype": "text/x-python",
   "name": "python",
   "nbconvert_exporter": "python",
   "pygments_lexer": "ipython3",
   "version": "3.9.7"
  }
 },
 "nbformat": 4,
 "nbformat_minor": 5
}
