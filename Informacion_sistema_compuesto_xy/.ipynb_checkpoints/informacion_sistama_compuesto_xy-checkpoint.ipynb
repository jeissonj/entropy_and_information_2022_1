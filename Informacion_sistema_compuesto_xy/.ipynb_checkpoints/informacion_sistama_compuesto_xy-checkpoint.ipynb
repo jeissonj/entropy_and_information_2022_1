{
 "cells": [
  {
   "cell_type": "markdown",
   "id": "b381eab5",
   "metadata": {},
   "source": [
    "## Información del sistema compuesto\n",
    "Tenemos un sistema acoplado donde sus probabilidades estan dadas por la siguiente matriz"
   ]
  },
  {
   "cell_type": "code",
   "execution_count": 3,
   "id": "1696308a",
   "metadata": {},
   "outputs": [],
   "source": [
    "import math as mt     #la liberia math sirve para hacer agunas funciones matematicas\n",
    "import numpy as np    # numpy permite manejar datos de una manera más eficiente\n",
    "from fractions import Fraction as ft  # se usa para trabajar con fracciones \n",
    "\n",
    "# funcion\n",
    "def pro_condicionada(marginal,matriz):\n",
    "    retorno = 0\n",
    "    acumulador = 0\n",
    "    for i in range(0,len(marginal)):\n",
    "        for j in range(0,len(matriz)):\n",
    "            valor = matriz[j][i]/marginal[i]\n",
    "            if valor == 0:\n",
    "                acumulador += 0\n",
    "            else:\n",
    "                acumulador += valor*mt.log2(valor) \n",
    "                \n",
    "            \n",
    "        retorno += marginal[i]*acumulador\n",
    "        acumulador = 0        \n",
    "    return -retorno       "
   ]
  },
  {
   "cell_type": "code",
   "execution_count": 4,
   "id": "aae50319",
   "metadata": {},
   "outputs": [],
   "source": [
    "#se verifica que los valores corresponden a los del libro, por lo cual el codigo esta bien\n",
    "datos_xy = np.array([[1/8,1/16,1/32,1/32],[1/16,1/8,1/32,1/32],[1/16,1/16,1/16,1/16],[1/4,0,0,0]])\n",
    "datos_xy_f = np.array([[ft(1,8),ft(1,16),ft(1,32),ft(1,32)],[ft(1,16),ft(1,8),ft(1,32),ft(1,32)],[ft(1,16),ft(1,16),ft(1,16),ft(1,16)],[ft(1,4),0,0,0]])"
   ]
  },
  {
   "cell_type": "code",
   "execution_count": 5,
   "id": "9e6ec59c",
   "metadata": {},
   "outputs": [
    {
     "data": {
      "text/plain": [
       "array([Fraction(1, 4), Fraction(1, 4), Fraction(1, 4), Fraction(1, 4)],\n",
       "      dtype=object)"
      ]
     },
     "execution_count": 5,
     "metadata": {},
     "output_type": "execute_result"
    }
   ],
   "source": [
    "marginal_x = sum(datos_xy)\n",
    "marginal_y = sum(datos_xy.T)\n",
    "marginal_x_f = sum(datos_xy_f)\n",
    "marginal_y_f = sum(datos_xy_f.T)\n",
    "datos_xy.T\n",
    "marginal_y_f"
   ]
  },
  {
   "cell_type": "markdown",
   "id": "55b21230",
   "metadata": {},
   "source": [
    "Como el contenido de informació de shannon esta dado por \n",
    "$$\n",
    "H(x) = - \\sum_{x = 1}^4 p(x) \\log_2p(x) \n",
    "$$\n",
    "Una ves calculado los marginales podemos resolver las siguientes preguntas \n"
   ]
  },
  {
   "cell_type": "markdown",
   "id": "ee6a61ed",
   "metadata": {},
   "source": [
    "a) ¿Cómo esta dada $H(X)$?\n",
    "con $$\n",
    "H(x) = - \\sum_{x = 1}^4 p(x) \\log_2p(x) \n",
    "$$"
   ]
  },
  {
   "cell_type": "code",
   "execution_count": 6,
   "id": "c443e1f1",
   "metadata": {},
   "outputs": [
    {
     "name": "stdout",
     "output_type": "stream",
     "text": [
      "La información contenida en el proceso x es de  1.75 bits\n"
     ]
    }
   ],
   "source": [
    "H_x=-sum(list(map(lambda x: x*mt.log2(x),marginal_x)))\n",
    "print(\"La información contenida en el proceso x es de \",H_x, \"bits\")"
   ]
  },
  {
   "cell_type": "markdown",
   "id": "379dd5e9",
   "metadata": {},
   "source": [
    "b) ¿Cómo esta dada H(Y)?\n",
    "con $$\n",
    "H(y) = - \\sum_{y = 1}^4 p(y) \\log_2p(y) \n",
    "$$"
   ]
  },
  {
   "cell_type": "code",
   "execution_count": 7,
   "id": "8a866b14",
   "metadata": {},
   "outputs": [
    {
     "name": "stdout",
     "output_type": "stream",
     "text": [
      "La información contenida en el proceso y es de  2.0 bits\n"
     ]
    }
   ],
   "source": [
    "H_y = -sum(list(map(lambda y: y*mt.log2(y),marginal_y_f)))\n",
    "print(\"La información contenida en el proceso y es de \",H_y, \"bits\")"
   ]
  },
  {
   "cell_type": "markdown",
   "id": "b98a33b9",
   "metadata": {},
   "source": [
    "c) ¿Cómo esta dado $H(X|Y)$?\n",
    "$$\n",
    "H(x|y) =  \\sum_{y = 1}^4 p(y) H(X|Y=y) = \\sum_{y = 1}^4 p(y) \\sum_{x = 1}^4 p(x|y) \\log_2 p(x|y) \n",
    "$$\n",
    "como \n",
    "$ p(x|y) = \\frac{p(xy)}{p(y)} $\n",
    "$$\n",
    "H(x|y) = - \\sum_{y = 1}^4 p(y) \\sum_{x = 1}^4 \\frac{p(xy)}{p(y)} \\log_2 \\frac{p(xy)}{p(y)} \n",
    "$$"
   ]
  },
  {
   "cell_type": "code",
   "execution_count": 8,
   "id": "1438acd8",
   "metadata": {},
   "outputs": [
    {
     "name": "stdout",
     "output_type": "stream",
     "text": [
      "la información de y condicionada x es de  1.375  bits\n"
     ]
    }
   ],
   "source": [
    "H_y_cond_x = pro_condicionada(marginal_y,datos_xy)\n",
    "print(\"la información de y condicionada x es de \", H_y_cond_x,\" bits\")"
   ]
  },
  {
   "cell_type": "markdown",
   "id": "3e31b986",
   "metadata": {},
   "source": [
    "d) ¿Cómo esta dado $H(Y|x)$?\n"
   ]
  },
  {
   "cell_type": "code",
   "execution_count": 9,
   "id": "67fadb71",
   "metadata": {},
   "outputs": [
    {
     "name": "stdout",
     "output_type": "stream",
     "text": [
      "la información de x condicionada y es de  1.625  bits\n"
     ]
    }
   ],
   "source": [
    "H_x_cond_y = pro_condicionada(marginal_x,datos_xy)\n",
    "print(\"la información de x condicionada y es de \", H_x_cond_y,\" bits\")"
   ]
  },
  {
   "cell_type": "markdown",
   "id": "1768740b",
   "metadata": {},
   "source": [
    "e) Calcular la infomación conjunta $H(XY)$ \n",
    "\n",
    "Recordemos que $H(XY)$ esta dado por $$ H(XY) = H(Y|X) + H(X) $$ por lo cual"
   ]
  },
  {
   "cell_type": "code",
   "execution_count": 10,
   "id": "393b40bb",
   "metadata": {},
   "outputs": [
    {
     "name": "stdout",
     "output_type": "stream",
     "text": [
      "La informació conjunta $H(XY)$ esta dada por  3.125  bits de información\n"
     ]
    }
   ],
   "source": [
    "H_x_y = H_y_cond_x + H_x\n",
    "print(\"La información conjunta $H(XY)$ esta dada por \", H_x_y, \" bits de información\")"
   ]
  },
  {
   "cell_type": "markdown",
   "id": "8a773124",
   "metadata": {},
   "source": [
    "Se sabe que la información conunta puede ser obtenida de manera equivalente con la expreción asociada a su otro marginal, es decir \n",
    " $$ H(XY) = H(Y|X) + H(X) = H(X|Y) + H(Y) $$\n"
   ]
  },
  {
   "cell_type": "code",
   "execution_count": 12,
   "id": "063c06af",
   "metadata": {},
   "outputs": [
    {
     "name": "stdout",
     "output_type": "stream",
     "text": [
      "La información conjunta $H(XY)$ mediante el marginal de y esta dada por  3.625  bits de información\n"
     ]
    }
   ],
   "source": [
    "H_x_y_2 = H_x_cond_y + H_y\n",
    "print(\"La información conjunta $H(XY)$ mediante el marginal de y esta dada por \", H_x_y_2, \" bits de información\")"
   ]
  },
  {
   "cell_type": "code",
   "execution_count": 14,
   "id": "d1e5f31b",
   "metadata": {},
   "outputs": [
    {
     "name": "stdout",
     "output_type": "stream",
     "text": [
      "La información conjunta es levemente diferente con  0.5  bids de diferencia \n"
     ]
    }
   ],
   "source": [
    "delta_H_x_y = abs( H_x_y - H_x_y_2)\n",
    "print(\"La información conjunta es levemente diferente con \",delta_H_x_y,\" bids de diferencia \")"
   ]
  },
  {
   "cell_type": "markdown",
   "id": "230bcaf2",
   "metadata": {},
   "source": [
    "Esta diferencia en el contenido de información puede deverce a que la distribución tenia ciertos estados prohibidos (con valor cero) lo que proboca que al omitir algunos logaritmos se este perdiendo información"
   ]
  },
  {
   "cell_type": "code",
   "execution_count": null,
   "id": "c7b68f91",
   "metadata": {},
   "outputs": [],
   "source": []
  }
 ],
 "metadata": {
  "kernelspec": {
   "display_name": "Python 3 (ipykernel)",
   "language": "python",
   "name": "python3"
  },
  "language_info": {
   "codemirror_mode": {
    "name": "ipython",
    "version": 3
   },
   "file_extension": ".py",
   "mimetype": "text/x-python",
   "name": "python",
   "nbconvert_exporter": "python",
   "pygments_lexer": "ipython3",
   "version": "3.9.7"
  }
 },
 "nbformat": 4,
 "nbformat_minor": 5
}
